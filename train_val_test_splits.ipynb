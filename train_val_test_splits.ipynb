{
 "cells": [
  {
   "cell_type": "markdown",
   "metadata": {},
   "source": [
    "### Train, Val, Test Annotation Creation\n",
    "\n",
    "`collect_data` \n",
    "- Input: master text file and a patient ID \n",
    "- Output: list of lines from the master file that contain the given patient ID\n",
    "\n",
    "`get_patient_ids`\n",
    "- Input: master text file\n",
    "- Output: list of all unique patient IDs found in the file\n",
    "\n",
    "`create_split_files`\n",
    "- Input: master text file, an output directory path, a test patient ID, and an optional train ratio\n",
    "- Ouput: train, validation, and test annotation files for given patient ID to leave out\n",
    "- Method: first gets a list of all patient IDs from the master file and removes the test patient ID from the list. It then randomly splits the remaining patient IDs into train and validation sets based on the provided train ratio. The function collects data for the test, train, and validation sets using the collect_data function, and writes the data to separate files in the output directory."
   ]
  },
  {
   "cell_type": "code",
   "execution_count": 1,
   "metadata": {},
   "outputs": [],
   "source": [
    "import os\n",
    "import random"
   ]
  },
  {
   "cell_type": "code",
   "execution_count": 4,
   "metadata": {},
   "outputs": [],
   "source": [
    "def collect_data(master_txt, patient_id):\n",
    "    # Open the master_txt file and read all lines\n",
    "    with open (master_txt, mode = 'r') as master:\n",
    "        lines = master.readlines()\n",
    "    # Filter lines that contain the patient_id\n",
    "    return [line for line in lines if patient_id in line]\n",
    "\n",
    "def get_patient_ids(master_text):\n",
    "    with open(master_text, mode = 'r') as master:\n",
    "        lines = master.readlines()\n",
    "        patient_ids = set()\n",
    "        # Extract patient ids from each line\n",
    "        for line in lines:\n",
    "            patient_id = line.split('/')[1].split('_')[0]\n",
    "            patient_ids.add(patient_id)\n",
    "        return list(patient_ids)\n",
    "\n",
    "def create_split_files(master_txt, output_dir, test_patient_id, train_ratio = 0.8):\n",
    "    # Get all patient ids from the master_txt file\n",
    "    patient_ids  =get_patient_ids(master_txt)\n",
    "    # Remove the test_patient_id from the list of patient ids\n",
    "    patient_ids.remove(test_patient_id)\n",
    "\n",
    "    # Split the remaining patient ids into train and validation sets\n",
    "    train_patients = random.sample(patient_ids, k= int(train_ratio*len(patient_ids)))\n",
    "    val_patients = [patient_id for patient_id in patient_ids if patient_id not in train_patients]\n",
    "\n",
    "    # Collect data for the test, train, and validation sets\n",
    "    test_data = collect_data(master_txt, test_patient_id)\n",
    "    train_data = [example for patient_id in train_patients for example in collect_data(master_txt, patient_id)]\n",
    "    val_data = [example for patient_id in val_patients for example in collect_data(master_txt, patient_id)]\n",
    "\n",
    "    os.makedirs(output_dir, exist_ok = True)\n",
    "    \n",
    "    # Write data to respective files\n",
    "    with open(os.path.join(output_dir, f\"test_{test_patient_id}.txt\"), mode='w') as test_file:\n",
    "        test_file.writelines(test_data)\n",
    "    \n",
    "    with open(os.path.join(output_dir, f\"train_{test_patient_id}.txt\"), mode='w') as train_file:\n",
    "        train_file.writelines(train_data)\n",
    "    \n",
    "    with open(os.path.join(output_dir, f\"val_{test_patient_id}.txt\"), mode='w') as val_file:\n",
    "        val_file.writelines(val_data)\n",
    "\n"
   ]
  },
  {
   "cell_type": "code",
   "execution_count": 5,
   "metadata": {},
   "outputs": [],
   "source": [
    "master_txt = 'annotations/aidan_allclips_annotations.txt'\n",
    "output_dir = 'annotations/patients'\n",
    "\n",
    "patient_ids = get_patient_ids(master_txt)\n",
    "\n",
    "for test_patient_id in patient_ids:\n",
    "    create_split_files(master_txt, output_dir, test_patient_id)"
   ]
  },
  {
   "cell_type": "code",
   "execution_count": null,
   "metadata": {},
   "outputs": [],
   "source": []
  },
  {
   "cell_type": "code",
   "execution_count": null,
   "metadata": {},
   "outputs": [],
   "source": []
  }
 ],
 "metadata": {
  "kernelspec": {
   "display_name": "Python 3",
   "language": "python",
   "name": "python3"
  },
  "language_info": {
   "codemirror_mode": {
    "name": "ipython",
    "version": 3
   },
   "file_extension": ".py",
   "mimetype": "text/x-python",
   "name": "python",
   "nbconvert_exporter": "python",
   "pygments_lexer": "ipython3",
   "version": "3.9.18"
  }
 },
 "nbformat": 4,
 "nbformat_minor": 2
}
