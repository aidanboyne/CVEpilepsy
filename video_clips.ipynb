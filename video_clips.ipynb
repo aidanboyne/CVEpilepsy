{
 "cells": [
  {
   "cell_type": "code",
   "execution_count": 9,
   "metadata": {},
   "outputs": [],
   "source": [
    "import cv2\n",
    "import os\n",
    "from pathlib import Path\n",
    "from decord import VideoReader\n",
    "from decord import cpu, gpu"
   ]
  },
  {
   "cell_type": "markdown",
   "metadata": {},
   "source": [
    "# 3 Second Clips"
   ]
  },
  {
   "cell_type": "code",
   "execution_count": null,
   "metadata": {},
   "outputs": [],
   "source": []
  },
  {
   "cell_type": "code",
   "execution_count": null,
   "metadata": {},
   "outputs": [],
   "source": []
  },
  {
   "cell_type": "markdown",
   "metadata": {},
   "source": [
    "# Label 0 and 1 "
   ]
  },
  {
   "cell_type": "code",
   "execution_count": 45,
   "metadata": {},
   "outputs": [
    {
     "name": "stdout",
     "output_type": "stream",
     "text": [
      "Number of segments is: 109\n",
      "Video segmentation and annotation completed.\n"
     ]
    }
   ],
   "source": [
    "\n",
    "input_video = \"Videos/7941D100.mp4\"\n",
    "output_dir = \"Clips\"\n",
    "annotation_file = \"Single_annotation.txt\"\n",
    "\n",
    "# Create the output directory if it doesn't exist\n",
    "os.makedirs(output_dir, exist_ok=True)\n",
    "\n",
    "# Open the video file and get the properties\n",
    "video = cv2.VideoCapture(input_video)\n",
    "fps = video.get(cv2.CAP_PROP_FPS)\n",
    "total_frames = int(video.get(cv2.CAP_PROP_FRAME_COUNT))\n",
    "\n",
    "# Read the seizure start and end times from the annotation file\n",
    "seizure_times = []\n",
    "with open(\"video_annot.txt\", \"r\") as seizure_file:\n",
    "    for line in seizure_file:\n",
    "        values = eval(line.strip())\n",
    "        if len(values) == 4:\n",
    "            video_path, video_id, patient_id, time_range = values\n",
    "            if video_path == input_video:\n",
    "                start_time, end_time = time_range\n",
    "                seizure_times.append((start_time, end_time))  # Keep the times in seconds\n",
    "\n",
    "# Convert seizure times from seconds to frames\n",
    "seizure_frames = []\n",
    "for start, end in seizure_times:\n",
    "    start_frame = int(start * fps)\n",
    "    end_frame = int(end * fps)\n",
    "    seizure_frames.append((start_frame, end_frame))\n",
    "\n",
    "# Calculate the number of 3-second segments\n",
    "clip_duration = 3  # Duration of each clip in seconds\n",
    "clip_frames = int(clip_duration * fps)\n",
    "num_segments = (total_frames + clip_frames - 1) // clip_frames\n",
    "\n",
    "print(\"Number of segments is:\", num_segments)\n",
    "\n",
    "# Initialize the segment counter\n",
    "segment_count = 0\n",
    "\n",
    "# Open the annotation file for writing\n",
    "with open(annotation_file, \"w\") as f:\n",
    "    # Iterate over the segments\n",
    "    for i in range(num_segments):\n",
    "        # Set the starting frame for the current segment\n",
    "        start_frame = i * clip_frames\n",
    "        end_frame = min(start_frame + clip_frames, total_frames)\n",
    "\n",
    "        # Set the video position to the starting frame\n",
    "        video.set(cv2.CAP_PROP_POS_FRAMES, start_frame)\n",
    "\n",
    "        # Initialize the frames list for the current segment\n",
    "        segment_frames = []\n",
    "\n",
    "        # Read frames for the current segment\n",
    "        for _ in range(end_frame - start_frame):\n",
    "            ret, frame = video.read()\n",
    "            if ret:\n",
    "                segment_frames.append(frame)\n",
    "            else:\n",
    "                break\n",
    "\n",
    "        # If frames were successfully read for the segment\n",
    "        if len(segment_frames) > 0:\n",
    "            # Create the output segment path\n",
    "            segment_name = f\"{patient_id}_{video_id}_Seg_{segment_count}.mp4\"\n",
    "            segment_path = os.path.join(output_dir, segment_name)\n",
    "\n",
    "            # Write the segment frames to the output video file\n",
    "            out = cv2.VideoWriter(segment_path, cv2.VideoWriter_fourcc(*\"mp4v\"), fps, (frame.shape[1], frame.shape[0]))\n",
    "            for frame in segment_frames:\n",
    "                out.write(frame)\n",
    "            out.release()\n",
    "\n",
    "            # Check if the current segment overlaps with any seizure time\n",
    "            is_seizure = any(seizure_start <= start_frame < seizure_end or\n",
    "                                seizure_start < end_frame <= seizure_end\n",
    "                              for seizure_start, seizure_end in seizure_frames)\n",
    "\n",
    "            # Write the annotation for the current segment\n",
    "            annotation = f\"{segment_path.replace('\\\\', '/')} {1 if is_seizure else 0}\\n\"\n",
    "            f.write(annotation)\n",
    "\n",
    "            # Increment the segment counter\n",
    "            segment_count += 1\n",
    "\n",
    "# Release the video capture\n",
    "video.release()\n",
    "print(\"Video segmentation and annotation completed.\")"
   ]
  },
  {
   "cell_type": "code",
   "execution_count": 22,
   "metadata": {},
   "outputs": [
    {
     "name": "stdout",
     "output_type": "stream",
     "text": [
      "Total frames :  9635\n"
     ]
    }
   ],
   "source": [
    "print(\"Total frames : \" , total_frames)\n"
   ]
  },
  {
   "cell_type": "code",
   "execution_count": 38,
   "metadata": {},
   "outputs": [
    {
     "name": "stdout",
     "output_type": "stream",
     "text": [
      "[(136, 170)]\n"
     ]
    }
   ],
   "source": [
    "print(seizure_times)"
   ]
  },
  {
   "cell_type": "code",
   "execution_count": null,
   "metadata": {},
   "outputs": [],
   "source": []
  },
  {
   "cell_type": "code",
   "execution_count": null,
   "metadata": {},
   "outputs": [],
   "source": []
  },
  {
   "cell_type": "code",
   "execution_count": null,
   "metadata": {},
   "outputs": [],
   "source": []
  },
  {
   "cell_type": "code",
   "execution_count": null,
   "metadata": {},
   "outputs": [],
   "source": []
  },
  {
   "cell_type": "code",
   "execution_count": null,
   "metadata": {},
   "outputs": [],
   "source": []
  },
  {
   "cell_type": "code",
   "execution_count": null,
   "metadata": {},
   "outputs": [],
   "source": []
  },
  {
   "cell_type": "code",
   "execution_count": null,
   "metadata": {},
   "outputs": [],
   "source": []
  },
  {
   "cell_type": "code",
   "execution_count": null,
   "metadata": {},
   "outputs": [],
   "source": []
  },
  {
   "cell_type": "code",
   "execution_count": null,
   "metadata": {},
   "outputs": [],
   "source": []
  },
  {
   "cell_type": "code",
   "execution_count": null,
   "metadata": {},
   "outputs": [],
   "source": []
  }
 ],
 "metadata": {
  "kernelspec": {
   "display_name": "mmacenv",
   "language": "python",
   "name": "python3"
  },
  "language_info": {
   "codemirror_mode": {
    "name": "ipython",
    "version": 3
   },
   "file_extension": ".py",
   "mimetype": "text/x-python",
   "name": "python",
   "nbconvert_exporter": "python",
   "pygments_lexer": "ipython3",
   "version": "3.12.3"
  }
 },
 "nbformat": 4,
 "nbformat_minor": 2
}
